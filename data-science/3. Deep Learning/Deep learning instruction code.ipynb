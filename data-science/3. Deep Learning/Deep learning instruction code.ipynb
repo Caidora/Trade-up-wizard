{
 "cells": [
  {
   "cell_type": "markdown",
   "id": "b3c1cb34",
   "metadata": {},
   "source": [
    "# MSA 2024 Phase 2 - Part 3"
   ]
  },
  {
   "cell_type": "markdown",
   "id": "63aa5f79",
   "metadata": {},
   "source": [
    "Welcome to the competition - in Part 3, you are encouraged to utilize neural network based models in a classification task. \n",
    "\n",
    "This notebook builds a simple Multi-Layer Perceptron (MLP) model for the CIFAR-10 dataset, with the use of keras to define the model structure."
   ]
  },
  {
   "cell_type": "markdown",
   "id": "75f1c5d8",
   "metadata": {},
   "source": [
    "**Before start working on the competition, please ensure all required libraries are installed and properly set up on your system**:\n",
    "\n",
    "- python >= 3.6,\n",
    "- tensorFlow >= 2.0,\n",
    "- keras >= 2.3,\n",
    "\n",
    "and any neccassary liburaries for data manipulation and processing, e.g., numpy, pandas."
   ]
  },
  {
   "cell_type": "code",
   "execution_count": 1,
   "id": "48d550cf",
   "metadata": {},
   "outputs": [],
   "source": [
    "import tensorflow as tf\n",
    "import numpy as np"
   ]
  },
  {
   "cell_type": "markdown",
   "id": "fc85f3a2",
   "metadata": {},
   "source": [
    "### 1. Data loading & preprocessing"
   ]
  },
  {
   "cell_type": "markdown",
   "id": "49efe468",
   "metadata": {},
   "source": [
    "The CIFAR-10 dataset contains 60,000 images(32x32x3) in 10 different classes, with 6,000 images in each class. You can download the dataset directly from keras.datasets.\n",
    "\n",
    "**To train the model, you are expected to use the training label provided in train.csv**."
   ]
  },
  {
   "cell_type": "code",
   "execution_count": 37,
   "id": "1ea40d44",
   "metadata": {},
   "outputs": [],
   "source": [
    "from keras.datasets import cifar10\n",
    "from keras.utils.np_utils import to_categorical \n",
    "\n",
    "# Load training and testing data.\n",
    "(X_train, y_train), (X_test, y_test) = cifar10.load_data()\n",
    "\n",
    "# load the training label provided in train.csv.\n",
    "y_train = np.genfromtxt('train.csv', delimiter=',', names=True)['label']\n",
    "\n",
    "# Convert class labels to one-hot encoded vectors.\n",
    "y_train = to_categorical(y_train, 10)\n",
    "y_test = to_categorical(y_test, 10)\n",
    "\n",
    "# Normalize the data. Reshape the data to fit in to an MLP model.\n",
    "X_train = X_train.astype('float32') / 255.0\n",
    "X_test = X_test.astype('float32') / 255.0\n",
    "X_train = X_train.reshape(-1, 3072)\n",
    "X_test = X_test.reshape(-1, 3072)\n"
   ]
  },
  {
   "cell_type": "markdown",
   "id": "261ae9e8",
   "metadata": {},
   "source": [
    "### 2. Build & train the model"
   ]
  },
  {
   "cell_type": "markdown",
   "id": "7d3f0331",
   "metadata": {},
   "source": [
    "This code builds a simple Multi-Layer Perceptron (MLP) model. However, you are encouraged to experiment with more complex deep learning models and techniques to boost your performance."
   ]
  },
  {
   "cell_type": "code",
   "execution_count": 38,
   "id": "92d60add",
   "metadata": {
    "collapsed": true
   },
   "outputs": [
    {
     "name": "stdout",
     "output_type": "stream",
     "text": [
      "Epoch 1/10\n",
      "1250/1250 [==============================] - 3s 3ms/step - loss: 1.8771 - accuracy: 0.3246 - val_loss: 1.7696 - val_accuracy: 0.3624\n",
      "Epoch 2/10\n",
      "1250/1250 [==============================] - 3s 2ms/step - loss: 1.6904 - accuracy: 0.3928 - val_loss: 1.6790 - val_accuracy: 0.3955\n",
      "Epoch 3/10\n",
      "1250/1250 [==============================] - 3s 2ms/step - loss: 1.6175 - accuracy: 0.4210 - val_loss: 1.6781 - val_accuracy: 0.4073\n",
      "Epoch 4/10\n",
      "1250/1250 [==============================] - 3s 2ms/step - loss: 1.5837 - accuracy: 0.4305 - val_loss: 1.6081 - val_accuracy: 0.4277\n",
      "Epoch 5/10\n",
      "1250/1250 [==============================] - 3s 2ms/step - loss: 1.5488 - accuracy: 0.4433 - val_loss: 1.6153 - val_accuracy: 0.4280\n",
      "Epoch 6/10\n",
      "1250/1250 [==============================] - 3s 2ms/step - loss: 1.5264 - accuracy: 0.4546 - val_loss: 1.5692 - val_accuracy: 0.4421\n",
      "Epoch 7/10\n",
      "1250/1250 [==============================] - 3s 2ms/step - loss: 1.5030 - accuracy: 0.4612 - val_loss: 1.5572 - val_accuracy: 0.4478\n",
      "Epoch 8/10\n",
      "1250/1250 [==============================] - 3s 3ms/step - loss: 1.4812 - accuracy: 0.4688 - val_loss: 1.5456 - val_accuracy: 0.4550\n",
      "Epoch 9/10\n",
      "1250/1250 [==============================] - 3s 3ms/step - loss: 1.4728 - accuracy: 0.4713 - val_loss: 1.5375 - val_accuracy: 0.4629\n",
      "Epoch 10/10\n",
      "1250/1250 [==============================] - 3s 2ms/step - loss: 1.4559 - accuracy: 0.4756 - val_loss: 1.5181 - val_accuracy: 0.4641\n",
      "313/313 [==============================] - 0s 1ms/step\n"
     ]
    }
   ],
   "source": [
    "from tensorflow.keras import layers\n",
    "from tensorflow.keras import Sequential\n",
    "from tensorflow.keras.layers import Dense, Dropout\n",
    "\n",
    "# Model initialization.\n",
    "model = tf.keras.Sequential()\n",
    " \n",
    "# Build the MLP model.\n",
    "model.add(Dense(128, activation='relu', input_shape=(X_train.shape[1],)))\n",
    "model.add(Dense(128, activation='relu'))\n",
    "model.add(Dense(10,  activation=\"softmax\"))\n",
    "\n",
    "# Complile the model.\n",
    "model.compile(optimizer='adam', loss='categorical_crossentropy', metrics=['accuracy'])\n",
    "\n",
    "# Train the model.\n",
    "model.fit(X_train, y_train, epochs=10, batch_size=32, validation_split=0.2)\n",
    "\n",
    "# Make predictions.\n",
    "predictions = model.predict(X_test)\n",
    "predicted_labels = np.argmax(predictions, axis=1)\n",
    "\n",
    "# Prepare your submission file.\n",
    "submission = np.column_stack((np.arange(1, len(predicted_labels)+1), predicted_labels))\n",
    "np.savetxt('submission.csv', submission, delimiter=',', header='id, Label', comments='', fmt='%d')\n"
   ]
  }
 ],
 "metadata": {
  "kernelspec": {
   "display_name": "Python 3 (ipykernel)",
   "language": "python",
   "name": "python3"
  },
  "language_info": {
   "codemirror_mode": {
    "name": "ipython",
    "version": 3
   },
   "file_extension": ".py",
   "mimetype": "text/x-python",
   "name": "python",
   "nbconvert_exporter": "python",
   "pygments_lexer": "ipython3",
   "version": "3.10.5"
  }
 },
 "nbformat": 4,
 "nbformat_minor": 5
}
